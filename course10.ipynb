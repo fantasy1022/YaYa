{
 "cells": [
  {
   "cell_type": "code",
   "execution_count": 1,
   "metadata": {},
   "outputs": [
    {
     "data": {
      "application/vnd.jupyter.widget-view+json": {
       "model_id": "94320c6ba3914aea9f5c227536e34312",
       "version_major": 2,
       "version_minor": 0
      },
      "text/plain": [
       "VBox(children=(Label(value='price (from 2020-12-01 to 2021-05-24)'), HBox(children=(DatePicker(value=datetime.…"
      ]
     },
     "metadata": {},
     "output_type": "display_data"
    },
    {
     "data": {
      "application/vnd.jupyter.widget-view+json": {
       "model_id": "6f6444fb13e149e4b28e723719a63147",
       "version_major": 2,
       "version_minor": 0
      },
      "text/plain": [
       "VBox(children=(Label(value='monthly_revenue (No table found)(對於finance_statement是正常情況)'), HBox(children=(DateP…"
      ]
     },
     "metadata": {},
     "output_type": "display_data"
    },
    {
     "data": {
      "application/vnd.jupyter.widget-view+json": {
       "model_id": "a8c4dfe1036443179dc212de4af2df42",
       "version_major": 2,
       "version_minor": 0
      },
      "text/plain": [
       "VBox(children=(Label(value='finance_statement (No table found)(對於finance_statement是正常情況)'), HBox(children=(Dat…"
      ]
     },
     "metadata": {},
     "output_type": "display_data"
    },
    {
     "name": "stdout",
     "output_type": "stream",
     "text": [
      "start crawl price from  2021-05-24 to 2021-05-30\n"
     ]
    },
    {
     "data": {
      "application/vnd.jupyter.widget-view+json": {
       "model_id": "a6037a6524ea48b2af161c959b848cde",
       "version_major": 2,
       "version_minor": 0
      },
      "text/plain": [
       "HBox(children=(HTML(value=''), FloatProgress(value=0.0, max=7.0), HTML(value='')))"
      ]
     },
     "metadata": {},
     "output_type": "display_data"
    },
    {
     "name": "stdout",
     "output_type": "stream",
     "text": [
      "crawling 2021-05-24\n",
      "success\n",
      "crawling 2021-05-25\n",
      "success\n",
      "crawling 2021-05-26\n",
      "success\n",
      "crawling 2021-05-27\n",
      "success\n",
      "crawling 2021-05-28\n",
      "success\n",
      "crawling 2021-05-29\n",
      "fail, check if it is a holiday\n"
     ]
    }
   ],
   "source": [
    "from finlab.crawler import (\n",
    "    widget, \n",
    "    \n",
    "    crawl_price, \n",
    "    crawl_monthly_report, \n",
    "    crawl_finance_statement_by_date,\n",
    "    \n",
    "    date_range, month_range, season_range\n",
    ")\n",
    "\n",
    "import sqlite3\n",
    "import os\n",
    "conn = sqlite3.connect(os.path.join('data', \"data.db\"))\n",
    "\n",
    "widget(conn, 'price', crawl_price, date_range)\n",
    "widget(conn, 'monthly_revenue', crawl_monthly_report, month_range)\n",
    "widget(conn, 'finance_statement', crawl_finance_statement_by_date, season_range)"
   ]
  },
  {
   "cell_type": "code",
   "execution_count": 3,
   "metadata": {},
   "outputs": [
    {
     "name": "stdout",
     "output_type": "stream",
     "text": [
      "Collecting ta-lib\n",
      "  Downloading TA-Lib-0.4.20.tar.gz (266 kB)\n",
      "\u001b[K     |████████████████████████████████| 266 kB 1.6 MB/s eta 0:00:01\n",
      "\u001b[?25hRequirement already satisfied: numpy in /opt/anaconda3/lib/python3.8/site-packages (from ta-lib) (1.19.2)\n",
      "Building wheels for collected packages: ta-lib\n",
      "  Building wheel for ta-lib (setup.py) ... \u001b[?25ldone\n",
      "\u001b[?25h  Created wheel for ta-lib: filename=TA_Lib-0.4.20-cp38-cp38-macosx_10_9_x86_64.whl size=433281 sha256=484494e07d1233443874be6d67708412512fcd676cbc981136e61dac3ffde399\n",
      "  Stored in directory: /Users/fangyi/Library/Caches/pip/wheels/4f/b1/e4/632425cebc7de5ceee7f6d3a373a717764038d199811eec544\n",
      "Successfully built ta-lib\n",
      "Installing collected packages: ta-lib\n",
      "Successfully installed ta-lib-0.4.20\n",
      "Note: you may need to restart the kernel to use updated packages.\n"
     ]
    }
   ],
   "source": [
    "pip install ta-lib\n"
   ]
  },
  {
   "cell_type": "markdown",
   "metadata": {},
   "source": [
    "# 時間區間範例："
   ]
  },
  {
   "cell_type": "code",
   "execution_count": 14,
   "metadata": {},
   "outputs": [
    {
     "name": "stdout",
     "output_type": "stream",
     "text": [
      "2010年抓取財報的時間點是\n"
     ]
    },
    {
     "data": {
      "text/plain": [
       "[datetime.date(2010, 3, 31),\n",
       " datetime.date(2010, 5, 15),\n",
       " datetime.date(2010, 8, 14),\n",
       " datetime.date(2010, 11, 14)]"
      ]
     },
     "execution_count": 14,
     "metadata": {},
     "output_type": "execute_result"
    }
   ],
   "source": [
    "print('2010年抓取財報的時間點是')\n",
    "season_range(datetime.date(2010,1,1), datetime.date(2011,1,1))"
   ]
  },
  {
   "cell_type": "markdown",
   "metadata": {},
   "source": [
    "# 每季財報 時間區間補充：\n",
    "\n",
    "關於每季財報爬取，選取的時間範圍要「包含」以下時段，就能夠爬到截止日期的財報囉！例如：\n",
    "\n",
    "* 2010年3月31號 --> 2009 第四季\n",
    "* 2010年5月15號 --> 2010 第一季\n",
    "* 2010年8月14號 --> 2010 第二季\n",
    "* 2010年11月14號 --> 2010 第三季\n",
    "\n",
    "所以假如我們想要抓2018年的第一季，就可以輸入一個時間範圍，例如：\n",
    "\n",
    "* 2018年5月01號 到 2018年5月31號\n",
    "\n",
    "因為這段時間有包含 2018年5月15號，所以就會下載 2018年第一季的財報喔！"
   ]
  },
  {
   "cell_type": "markdown",
   "metadata": {},
   "source": [
    "# 程式化更新資料"
   ]
  },
  {
   "cell_type": "code",
   "execution_count": 2,
   "metadata": {
    "collapsed": true
   },
   "outputs": [],
   "source": [
    "import datetime\n",
    "from finlab.crawler import update_table\n",
    "#update_table(conn, 'price', crawl_price, [datetime.date(2018,3,26)])\n",
    "#update_table(conn, 'monthly_revenue', crawl_monthly_report, [datetime.date(2018,3,1)])\n",
    "#update_table(conn, 'finance_statement', crawl_finance_statement_by_date, [datetime.date(2018,3,31)])"
   ]
  }
 ],
 "metadata": {
  "kernelspec": {
   "display_name": "Python 3",
   "language": "python",
   "name": "python3"
  },
  "language_info": {
   "codemirror_mode": {
    "name": "ipython",
    "version": 3
   },
   "file_extension": ".py",
   "mimetype": "text/x-python",
   "name": "python",
   "nbconvert_exporter": "python",
   "pygments_lexer": "ipython3",
   "version": "3.8.5"
  }
 },
 "nbformat": 4,
 "nbformat_minor": 2
}
